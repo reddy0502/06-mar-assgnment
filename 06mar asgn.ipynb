{
 "cells": [
  {
   "cell_type": "markdown",
   "id": "005e7eb9-586c-41c4-aecb-2deb0a0680c9",
   "metadata": {},
   "source": [
    "1ans:"
   ]
  },
  {
   "cell_type": "markdown",
   "id": "1af40656-659f-483e-98dd-e99d31c3e643",
   "metadata": {},
   "source": [
    "Statistics is the branch of mathematics that deals with the collection, analysis, interpretation, presentation, and organization of data. It involves the use of mathematical tools and techniques to study and describe real-world phenomena, and to make informed decisions based on empirical evidence.\n",
    "\n",
    "Statistics can be used to summarize and describe data, to test hypotheses and make inferences about populations based on sample data"
   ]
  },
  {
   "cell_type": "markdown",
   "id": "74009b7b-e810-42ad-973d-bef77e83ac84",
   "metadata": {},
   "source": [
    "2ans:"
   ]
  },
  {
   "cell_type": "markdown",
   "id": "d53de1b8-adf4-4af9-b6bf-9115b94d7916",
   "metadata": {},
   "source": [
    "There are two main types of statistics: descriptive statistics and inferential statistics.\n",
    "\n",
    "Descriptive Statistics: Descriptive statistics involves the collection and presentation of data in a way that allows us to describe the characteristics of a set of data. Descriptive statistics can be further divided into two categories:\n",
    "\n",
    "a)Measures of central tendency: These measures help to describe the central location of a set of data. For example, the mean, median, and mode are measures of central tendency. The mean is used when the data is normally distributed, while the median is used when the data is skewed.\n",
    "\n",
    "b)Measures of dispersion: These measures help to describe the spread or variability of a set of data. For example, the range, standard deviation, and variance are measures of dispersion. \n",
    "Example: Descriptive statistics can be used to describe the average salary of employees in a company. \n",
    "\n",
    "Inferential Statistics: Inferential statistics involves using sample data to make inferences or draw conclusions about a population. Inferential statistics allows us to test hypotheses, estimate parameters, and make predictions about the population based on sample data.\n",
    "\n",
    "Example: Inferential statistics can be used to determine whether a new drug is effective in treating a particular disease. A sample of patients can be given the drug, and another sample can be given a placebo. The results from the two samples can be compared using inferential statistics to determine whether the drug is effective in treating the disease."
   ]
  },
  {
   "cell_type": "markdown",
   "id": "9b47b52a-06e0-4d46-817b-18a23277cd94",
   "metadata": {},
   "source": [
    "3ans:"
   ]
  },
  {
   "cell_type": "markdown",
   "id": "9d367f3d-09d3-4858-be83-2320547a30eb",
   "metadata": {},
   "source": [
    "There are generally four different types of data: nominal, ordinal, interval, and ratio.  \n",
    "\n",
    "Nominal data: Nominal data is categorical data that cannot be ordered or ranked. Nominal data is used to describe characteristics or qualities that cannot be measured numerically. Examples of nominal data include gender, race, eye color, and political affiliation.\n",
    "\n",
    "Ordinal data: Ordinal data is categorical data that can be ordered or ranked. The values in ordinal data represent a scale or a hierarchy. Examples of ordinal data include education level , socioeconomic status , and level of agreement .\n",
    "\n",
    "Interval data: Interval data is numerical data that has a meaningful order, and the difference between any two adjacent values is equal. Interval data does not have a true zero point. Examples of interval data include temperature measured in Celsius or Fahrenheit, dates measured in years, and IQ scores.\n",
    "\n",
    "Ratio data: Ratio data is numerical data that has a meaningful order, and the difference between any two adjacent values is equal. Ratio data has a true zero point, which indicates the absence of the variable being measured. Examples of ratio data include height, weight, income, and number of children"
   ]
  },
  {
   "cell_type": "markdown",
   "id": "3adf0a97-05fb-4f93-bac5-87d42a4b913b",
   "metadata": {},
   "source": [
    "4ans:"
   ]
  },
  {
   "cell_type": "markdown",
   "id": "e5cc3a44-138b-46d0-ad4b-3cf9d1918a1e",
   "metadata": {},
   "source": [
    "(i) Grading in exam: This dataset is qualitative data, specifically ordinal data since the grades can be ordered or ranked.\n",
    "\n",
    "(ii) Colour of mangoes: This dataset is qualitative data, specifically nominal data since the colors cannot be ordered or ranked.\n",
    "\n",
    "(iii) Height data of a class: This dataset is quantitative data, specifically continuous data since the height values can take on any value within a range.\n",
    "\n",
    "(iv) Number of mangoes exported by a farm: This dataset is quantitative data, specifically discrete data since the number of mangoes can only take on whole number values."
   ]
  },
  {
   "cell_type": "markdown",
   "id": "5470b339-d2ae-4a31-a5e1-0e63ad3f4070",
   "metadata": {},
   "source": [
    "5ans:"
   ]
  },
  {
   "cell_type": "markdown",
   "id": "037153ce-1978-4f9e-97b6-739c210df9f6",
   "metadata": {},
   "source": [
    "There are four main levels of measurement: nominal, ordinal, interval, and ratio.\n",
    "\n",
    "Nominal level of measurement: Nominal level variables are categorical in nature and cannot be ranked. The categories of the variable are mutually exclusive and do not have any inherent order.\n",
    "\n",
    "Ordinal level of measurement: Ordinal level variables are also categorical but can be ranked or ordered. The categories of the variable have a relative position or magnitude, but the distance between categories is unknown or unequal. \n",
    "\n",
    "Interval level of measurement: Interval level variables are numeric and have a consistent scale. The distance between any two points on the scale is equal, but there is no true zero point.\n",
    "\n",
    "Ratio level of measurement: Ratio level variables are also numeric and have a consistent scale, but they have a true zero point. This means that zero represents the absence of the variable being measured. "
   ]
  },
  {
   "cell_type": "markdown",
   "id": "1ca95073-d0a5-43d4-833b-a5527a4a8150",
   "metadata": {},
   "source": [
    "6ans:"
   ]
  },
  {
   "cell_type": "markdown",
   "id": "de4120aa-e553-4540-b478-6fe187ef1177",
   "metadata": {},
   "source": [
    "Understanding the level of measurement is important when analyzing data because it helps determine the appropriate statistical techniques that can be used for analysis. Different levels of measurement require different statistical methods and have different types of summary statistics that are appropriate to use.\n",
    "\n",
    "For example, if we are analyzing a nominal variable such as gender, we can use frequency tables and bar charts to summarize the data. We can calculate percentages and mode to describe the data. However, we cannot calculate a mean, median or variance for nominal data."
   ]
  },
  {
   "cell_type": "markdown",
   "id": "d4d8a4ac-714e-42f4-8ebd-9da39b120ee9",
   "metadata": {},
   "source": [
    "7ans:"
   ]
  },
  {
   "cell_type": "markdown",
   "id": "bf54cfd8-c30e-4cd6-ad6b-0a7def8e044f",
   "metadata": {},
   "source": [
    "Nominal data and ordinal data are both types of categorical data, but they differ in terms of the level of measurement and the type of information they convey.\n",
    "\n",
    "Nominal data is a type of categorical data where the categories or groups have no inherent order or ranking. In other words, the categories are simply labels or names.\n",
    "\n",
    "ordinal data is a type of categorical data where the categories or groups have a natural order or ranking. The categories or groups can be ranked in a specific order based on some criteria or measurement.\n",
    "\n",
    "The key difference between nominal and ordinal data is that nominal data has no inherent order or ranking, whereas ordinal data does."
   ]
  },
  {
   "cell_type": "markdown",
   "id": "c2f36df5-395c-46df-98b3-eeb460f27026",
   "metadata": {},
   "source": [
    "8ans:"
   ]
  },
  {
   "cell_type": "markdown",
   "id": "591bf08f-4723-49da-b7c1-4659e835728c",
   "metadata": {},
   "source": [
    "A box plot, also known as a box-and-whisker plot, is a type of plot that can be used to display data in terms of range.\n",
    "\n",
    "Box plots are useful for comparing the distribution of data across different groups or categories, and for identifying outliers or skewness in the data. They can be particularly useful when comparing data sets with different ranges or scales, as the range of the data is represented by the whiskers of the plot.\n"
   ]
  },
  {
   "cell_type": "markdown",
   "id": "91ada9f3-5ee0-4186-ae2a-517f4499f332",
   "metadata": {},
   "source": [
    "9ans:"
   ]
  },
  {
   "cell_type": "markdown",
   "id": "bf834834-84aa-42e7-9bb6-a53222262b5a",
   "metadata": {},
   "source": [
    "Descriptive statistics is the branch of statistics that deals with summarizing and describing the characteristics of a data set. It involves analyzing and presenting data in a meaningful way through the use of measures such as measures of central tendency (mean, median, mode), measures of variability (range, standard deviation), and graphical displays (histograms, box plots).\n",
    "\n",
    "inferential statistics is the branch of statistics that deals with making inferences or generalizations about a population based on a sample of data. It involves analyzing the relationships between variables and testing hypotheses about the population using sample data. Inferential statistics uses statistical methods such as hypothesis testing, confidence intervals, and regression analysis to make predictions and draw conclusions about the population based on sample data.\n",
    "\n",
    "The main difference between descriptive and inferential statistics is that descriptive statistics is used to summarize and describe data, while inferential statistics is used to make predictions and draw conclusions about a population based on a sample of data."
   ]
  },
  {
   "cell_type": "markdown",
   "id": "766b4ad0-14c2-4a07-a65c-7bc7f18ee0ed",
   "metadata": {},
   "source": [
    "10ans:"
   ]
  },
  {
   "cell_type": "markdown",
   "id": "f9149181-373d-49e9-ac18-fc42b415423e",
   "metadata": {},
   "source": [
    "The three most common measures of central tendency are:\n",
    "\n",
    "Mean: The mean is the arithmetic average of a set of data. It is calculated by adding up all the values in the data set and dividing by the number of  values. The mean is used to describe the typical value of a data set when the data is normally distributed and the outliers are not significant.\n",
    "\n",
    "Median: The median is the middle value of a data set when the values are arranged in order. If there is an even number of values in the data set, the median is the average of the two middle values. The median is used to describe the typical value of a data set when the data is skewed or there are significant outliers.\n",
    "\n",
    "Mode: The mode is the value that appears most frequently in a data set. It is used to describe the typical value of a data set when the data is categorical or discrete."
   ]
  }
 ],
 "metadata": {
  "kernelspec": {
   "display_name": "Python 3 (ipykernel)",
   "language": "python",
   "name": "python3"
  },
  "language_info": {
   "codemirror_mode": {
    "name": "ipython",
    "version": 3
   },
   "file_extension": ".py",
   "mimetype": "text/x-python",
   "name": "python",
   "nbconvert_exporter": "python",
   "pygments_lexer": "ipython3",
   "version": "3.10.8"
  }
 },
 "nbformat": 4,
 "nbformat_minor": 5
}
